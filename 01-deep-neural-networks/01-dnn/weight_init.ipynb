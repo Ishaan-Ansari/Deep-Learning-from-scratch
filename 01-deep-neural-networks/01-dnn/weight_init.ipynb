{
 "cells": [
  {
   "cell_type": "markdown",
   "id": "630dcee8-dc6a-4735-826e-d4ec4f607d54",
   "metadata": {},
   "source": [
    "<div class=\"alert alert-block alert-success\">\n",
    "    <b>WEIGHTS INITIALIZATION METHOD</b>\n",
    "</div>"
   ]
  },
  {
   "cell_type": "markdown",
   "id": "0b254705-2a9b-4832-b61b-8a849f134409",
   "metadata": {},
   "source": [
    "What were the challenges faced before inception of weight init? <br>\n",
    "How did it overcame it <br>\n",
    "What all techniques are there <br>\n",
    "what the benefits those techniques <br>\n",
    "Mathematical intuition <br>\n",
    "When to use what and how <br>"
   ]
  },
  {
   "cell_type": "code",
   "execution_count": null,
   "id": "0da54faa-4fd6-4e5b-a400-2d5ff52e6c4a",
   "metadata": {},
   "outputs": [],
   "source": []
  }
 ],
 "metadata": {
  "kernelspec": {
   "display_name": "anaconda-ml-ai",
   "language": "python",
   "name": "conda-env-anaconda-ml-ai"
  },
  "language_info": {
   "codemirror_mode": {
    "name": "ipython",
    "version": 3
   },
   "file_extension": ".py",
   "mimetype": "text/x-python",
   "name": "python",
   "nbconvert_exporter": "python",
   "pygments_lexer": "ipython3",
   "version": "3.10.13"
  }
 },
 "nbformat": 4,
 "nbformat_minor": 5
}
